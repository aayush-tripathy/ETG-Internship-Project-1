{
  "nbformat": 4,
  "nbformat_minor": 5,
  "metadata": {
    "kernelspec": {
      "display_name": "Python 3",
      "language": "python",
      "name": "python3"
    },
    "language_info": {
      "codemirror_mode": {
        "name": "ipython",
        "version": 3
      },
      "file_extension": ".py",
      "mimetype": "text/x-python",
      "name": "python",
      "nbconvert_exporter": "python",
      "pygments_lexer": "ipython3",
      "version": "3.8.8"
    },
    "colab": {
      "name": "Inventory_management_project___ETG.ipynb",
      "provenance": []
    }
  },
  "cells": [
    {
      "cell_type": "markdown",
      "metadata": {
        "id": "5b7eca66"
      },
      "source": [
        "Aayush Tripathy\n",
        "\n"
      ],
      "id": "5b7eca66"
    },
    {
      "cell_type": "markdown",
      "metadata": {
        "id": "LfM27SJMUaVM"
      },
      "source": [
        ""
      ],
      "id": "LfM27SJMUaVM"
    },
    {
      "cell_type": "markdown",
      "metadata": {
        "id": "90944f7e"
      },
      "source": [
        "Inventory management project_ETG"
      ],
      "id": "90944f7e"
    },
    {
      "cell_type": "code",
      "metadata": {
        "id": "56b55147"
      },
      "source": [
        "import json"
      ],
      "id": "56b55147",
      "execution_count": null,
      "outputs": []
    },
    {
      "cell_type": "code",
      "metadata": {
        "id": "2ca33700"
      },
      "source": [
        "data = open('listforinventory.json','w')"
      ],
      "id": "2ca33700",
      "execution_count": null,
      "outputs": []
    },
    {
      "cell_type": "code",
      "metadata": {
        "id": "67eb589d"
      },
      "source": [
        "inventory = {\n",
        "    1191 : {\"item\": \"dairymilk(s)\" , \"price\" : 20 , \"quantity\" : 10 , \"category\": \"chocolate\", \"rating\" : 7},\n",
        "    1192 : {\"item\": \"dairymilk(m)\" , \"price\" : 40 , \"quantity\" : 100 , \"category\": \"chocolate\", \"rating\" : 8},\n",
        "    1193 : {\"item\": \"dairymilk(l)\" , \"price\" : 100 , \"quantity\" : 50 , \"category\": \"chocolate\", \"rating\" : 8},\n",
        "    1194 : {\"item\": \"barone(s)\" , \"price\" : 10 , \"quantity\" : 200 , \"category\": \"chocolate\", \"rating\" : 6},\n",
        "    1195 : {\"item\": \"barone(m)\" , \"price\" : 40 , \"quantity\" : 75 , \"category\":\"chocolate\" , \"rating\" : 7},\n",
        "    1196 : {\"item\": \"barone(l)\" , \"price\" : 80 , \"quantity\" : 50 , \"category\": \"chocolate\" , \"rating\" : 8},\n",
        "    1197 : {\"item\": \"clinicplus\" , \"price\" : 1 , \"quantity\" : 500 , \"category\": \"shampoo\" , \"rating\" : 6},\n",
        "    1198 : {\"item\": \"clinicplusbottle\" , \"price\" : 150 , \"quantity\" : 50 , \"category\": \"shampoo\", \"rating\" : 6},\n",
        "    1199 : {\"item\": \"dettolsoap\" , \"price\" : 20 , \"quantity\" : 100 , \"category\": \"soap\" , \"rating\" : 9},\n",
        "    1200 : {\"item\": \"dettolhandwash\" , \"price\" : 80 , \"quantity\" : 30 , \"category\": \"handwash\" , \"rating\" : 9},\n",
        "    1201 : {\"item\": \"dettolbottle\" , \"price\" : 80 , \"quantity\" : 100 , \"category\": \"medicine\" , \"rating\" : 9},\n",
        "    1202 : {\"item\": \"paracetamol\" , \"price\" : 40 , \"quantity\" : 10 , \"category\": \"medicine\", \"rating\" : 8},\n",
        "    1203 : {\"item\": \"potato\" , \"price\" : 10 , \"quantity\" : 100 , \"category\": \"vegetable\", \"rating\" : 8},\n",
        "    1204 : {\"item\": \"5star(s)\" , \"price\" : 10 , \"quantity\" : 100 , \"category\": \"chocolate\", \"rating\" : 8},\n",
        "    1205 : {\"item\": \"5star(m)\" , \"price\" : 20 , \"quantity\" : 100 , \"category\": \"chocolate\", \"rating\" : 8},\n",
        "    1206 : {\"item\": \"5star(l)\" , \"price\" : 40 , \"quantity\" : 50 , \"category\": \"chocolate\", \"rating\" : 8},\n",
        "    1207 : {\"item\": \"kitkat(s)\" , \"price\" : 10 , \"quantity\" : 300 , \"category\": \"chocolate\", \"rating\" : 7},\n",
        "    1208 : {\"item\": \"kitkat(m)\" , \"price\" : 40 , \"quantity\" : 400 , \"category\": \"chocolate\", \"rating\" : 9},\n",
        "    1209 : {\"item\": \"sneakers\" , \"price\" : 10 , \"quantity\" : 500 , \"category\": \"chocolate\", \"rating\" : 6},\n",
        "    1210 : {\"item\": \"centerfresh\" , \"price\" : 1 , \"quantity\" : 1000 , \"category\": \"toffee\", \"rating\" : 7},\n",
        "    1211 : {\"item\": \"centerfruit\" , \"price\" : 1 , \"quantity\" : 1000 , \"category\": \"toffee\", \"rating\" : 8},\n",
        "    1212 : {\"item\": \"chocobar\" , \"price\" : 10 , \"quantity\" : 200 , \"category\": \"chocolate\", \"rating\" : 7},\n",
        "    1213 : {\"item\": \"pilotpen\" , \"price\" : 100 , \"quantity\" : 100 , \"category\": \"stationary\", \"rating\" : 9},\n",
        "    1214 : {\"item\": \"apsarapencil\" , \"price\" : 5 , \"quantity\" : 200 , \"category\": \"stationary\", \"rating\" : 9},\n",
        "    1215 : {\"item\": \"fair-copy\" , \"price\" : 70 , \"quantity\" : 80 , \"category\": \"stationary\", \"rating\" : 8},\n",
        "    1216 : {\"item\": \"rough-copy\" , \"price\" : 30 , \"quantity\" : 80 , \"category\": \"stationary\", \"rating\" : 7},\n",
        "    1217 : {\"item\": \"pencil-box\" , \"price\" : 100 , \"quantity\" : 90 , \"category\": \"stationary\", \"rating\" : 9},\n",
        "    1218 : {\"item\": \"colors\" , \"price\" : 120 , \"quantity\" : 40 , \"category\": \"stationary\", \"rating\" : 8},\n",
        "    1219 : {\"item\": \"fevicol(m)\" , \"price\" : 20 , \"quantity\" : 100 , \"category\": \"stationary\", \"rating\" : 9},\n",
        "    1220 : {\"item\": \"fevicol(l)\" , \"price\" : 50 , \"quantity\" : 300 , \"category\": \"stationary\", \"rating\" : 9}\n",
        "    \n",
        "}\n"
      ],
      "id": "67eb589d",
      "execution_count": null,
      "outputs": []
    },
    {
      "cell_type": "code",
      "metadata": {
        "id": "9b608472"
      },
      "source": [
        "js = json.dumps(inventory)"
      ],
      "id": "9b608472",
      "execution_count": null,
      "outputs": []
    },
    {
      "cell_type": "code",
      "metadata": {
        "id": "ee3cb1e9",
        "outputId": "9cdb8c4c-762f-43d6-b14e-bf0771390d92"
      },
      "source": [
        "js"
      ],
      "id": "ee3cb1e9",
      "execution_count": null,
      "outputs": [
        {
          "data": {
            "text/plain": [
              "'{\"1191\": {\"item\": \"dairymilk(s)\", \"price\": 20, \"quantity\": 10, \"category\": \"chocolate\", \"rating\": 7}, \"1192\": {\"item\": \"dairymilk(m)\", \"price\": 40, \"quantity\": 100, \"category\": \"chocolate\", \"rating\": 8}, \"1193\": {\"item\": \"dairymilk(l)\", \"price\": 100, \"quantity\": 50, \"category\": \"chocolate\", \"rating\": 8}, \"1194\": {\"item\": \"barone(s)\", \"price\": 10, \"quantity\": 200, \"category\": \"chocolate\", \"rating\": 6}, \"1195\": {\"item\": \"barone(m)\", \"price\": 40, \"quantity\": 75, \"category\": \"chocolate\", \"rating\": 7}, \"1196\": {\"item\": \"barone(l)\", \"price\": 80, \"quantity\": 50, \"category\": \"chocolate\", \"rating\": 8}, \"1197\": {\"item\": \"clinicplus\", \"price\": 1, \"quantity\": 500, \"category\": \"shampoo\", \"rating\": 6}, \"1198\": {\"item\": \"clinicplusbottle\", \"price\": 150, \"quantity\": 50, \"category\": \"shampoo\", \"rating\": 6}, \"1199\": {\"item\": \"dettolsoap\", \"price\": 20, \"quantity\": 100, \"category\": \"soap\", \"rating\": 9}, \"1200\": {\"item\": \"dettolhandwash\", \"price\": 80, \"quantity\": 30, \"category\": \"handwash\", \"rating\": 9}, \"1201\": {\"item\": \"dettolbottle\", \"price\": 80, \"quantity\": 100, \"category\": \"medicine\", \"rating\": 9}, \"1202\": {\"item\": \"paracetamol\", \"price\": 40, \"quantity\": 10, \"category\": \"medicine\", \"rating\": 8}, \"1203\": {\"item\": \"potato\", \"price\": 10, \"quantity\": 100, \"category\": \"vegetable\", \"rating\": 8}, \"1204\": {\"item\": \"5star(s)\", \"price\": 10, \"quantity\": 100, \"category\": \"chocolate\", \"rating\": 8}, \"1205\": {\"item\": \"5star(m)\", \"price\": 20, \"quantity\": 100, \"category\": \"chocolate\", \"rating\": 8}, \"1206\": {\"item\": \"5star(l)\", \"price\": 40, \"quantity\": 50, \"category\": \"chocolate\", \"rating\": 8}, \"1207\": {\"item\": \"kitkat(s)\", \"price\": 10, \"quantity\": 300, \"category\": \"chocolate\", \"rating\": 7}, \"1208\": {\"item\": \"kitkat(m)\", \"price\": 40, \"quantity\": 400, \"category\": \"chocolate\", \"rating\": 9}, \"1209\": {\"item\": \"sneakers\", \"price\": 10, \"quantity\": 500, \"category\": \"chocolate\", \"rating\": 6}, \"1210\": {\"item\": \"centerfresh\", \"price\": 1, \"quantity\": 1000, \"category\": \"toffee\", \"rating\": 7}, \"1211\": {\"item\": \"centerfruit\", \"price\": 1, \"quantity\": 1000, \"category\": \"toffee\", \"rating\": 8}, \"1212\": {\"item\": \"chocobar\", \"price\": 10, \"quantity\": 200, \"category\": \"chocolate\", \"rating\": 7}, \"1213\": {\"item\": \"pilotpen\", \"price\": 100, \"quantity\": 100, \"category\": \"stationary\", \"rating\": 9}, \"1214\": {\"item\": \"apsarapencil\", \"price\": 5, \"quantity\": 200, \"category\": \"stationary\", \"rating\": 9}, \"1215\": {\"item\": \"fair-copy\", \"price\": 70, \"quantity\": 80, \"category\": \"stationary\", \"rating\": 8}, \"1216\": {\"item\": \"rough-copy\", \"price\": 30, \"quantity\": 80, \"category\": \"stationary\", \"rating\": 7}, \"1217\": {\"item\": \"pencil-box\", \"price\": 100, \"quantity\": 90, \"category\": \"stationary\", \"rating\": 9}, \"1218\": {\"item\": \"colors\", \"price\": 120, \"quantity\": 40, \"category\": \"stationary\", \"rating\": 8}, \"1219\": {\"item\": \"fevicol(m)\", \"price\": 20, \"quantity\": 100, \"category\": \"stationary\", \"rating\": 9}, \"1220\": {\"item\": \"fevicol(l)\", \"price\": 50, \"quantity\": 300, \"category\": \"stationary\", \"rating\": 9}}'"
            ]
          },
          "execution_count": 5,
          "metadata": {},
          "output_type": "execute_result"
        }
      ]
    },
    {
      "cell_type": "code",
      "metadata": {
        "id": "df0813f6",
        "outputId": "563c9f2e-d70e-47be-d30a-97f7fa78cd81"
      },
      "source": [
        "data.write(js)"
      ],
      "id": "df0813f6",
      "execution_count": null,
      "outputs": [
        {
          "data": {
            "text/plain": [
              "2978"
            ]
          },
          "execution_count": 6,
          "metadata": {},
          "output_type": "execute_result"
        }
      ]
    },
    {
      "cell_type": "code",
      "metadata": {
        "id": "37d250b1"
      },
      "source": [
        "data.close()"
      ],
      "id": "37d250b1",
      "execution_count": null,
      "outputs": []
    },
    {
      "cell_type": "code",
      "metadata": {
        "id": "a477ce3f",
        "colab": {
          "base_uri": "https://localhost:8080/",
          "height": 561
        },
        "outputId": "54c2a24b-39e2-48e7-e30f-53ada0de747c"
      },
      "source": [
        "data1 = open(\"order.txt\",\"w\")\n",
        "value = int(input(\"enter the number of quantity you want to buy\"))\n",
        "data = open(\"listforinventory.json\",\"r\")\n",
        "read = data.read()\n",
        "receipt = json.loads(read)\n",
        "excli = \"\\nyou just bought\\t\"\n",
        "\n",
        "total_bill=0\n",
        "for i in range(value):\n",
        "    pd_id = str(input(\"enter the id\"))\n",
        "    quan = int(input(\"enter the quantity of product\"))\n",
        "    pd_name = input('Enter the product name')\n",
        "    if quan<receipt[pd_id][\"quantity\"]:\n",
        "        receipt[pd_id][\"quantity\"] = receipt[pd_id][\"quantity\"] - quan\n",
        "        total_bill += quan*receipt[pd_id][\"price\"]\n",
        "        \n",
        "    data1.write(\"you just bought {} of {} with product name {} and category {}\\n \".format( str(quan) , str(pd_id) , str(receipt[pd_id][\"item\"]) , str(receipt[pd_id][\"category\"]) ))\n",
        "    \n",
        "data1.write('\\n your total bill is {}'.format(str(total_bill)))\n",
        "    \n",
        "    "
      ],
      "id": "a477ce3f",
      "execution_count": null,
      "outputs": [
        {
          "output_type": "error",
          "ename": "KeyboardInterrupt",
          "evalue": "ignored",
          "traceback": [
            "\u001b[0;31m---------------------------------------------------------------------------\u001b[0m",
            "\u001b[0;31mKeyboardInterrupt\u001b[0m                         Traceback (most recent call last)",
            "\u001b[0;32m/usr/local/lib/python3.7/dist-packages/ipykernel/kernelbase.py\u001b[0m in \u001b[0;36m_input_request\u001b[0;34m(self, prompt, ident, parent, password)\u001b[0m\n\u001b[1;32m    728\u001b[0m             \u001b[0;32mtry\u001b[0m\u001b[0;34m:\u001b[0m\u001b[0;34m\u001b[0m\u001b[0;34m\u001b[0m\u001b[0m\n\u001b[0;32m--> 729\u001b[0;31m                 \u001b[0mident\u001b[0m\u001b[0;34m,\u001b[0m \u001b[0mreply\u001b[0m \u001b[0;34m=\u001b[0m \u001b[0mself\u001b[0m\u001b[0;34m.\u001b[0m\u001b[0msession\u001b[0m\u001b[0;34m.\u001b[0m\u001b[0mrecv\u001b[0m\u001b[0;34m(\u001b[0m\u001b[0mself\u001b[0m\u001b[0;34m.\u001b[0m\u001b[0mstdin_socket\u001b[0m\u001b[0;34m,\u001b[0m \u001b[0;36m0\u001b[0m\u001b[0;34m)\u001b[0m\u001b[0;34m\u001b[0m\u001b[0;34m\u001b[0m\u001b[0m\n\u001b[0m\u001b[1;32m    730\u001b[0m             \u001b[0;32mexcept\u001b[0m \u001b[0mException\u001b[0m\u001b[0;34m:\u001b[0m\u001b[0;34m\u001b[0m\u001b[0;34m\u001b[0m\u001b[0m\n",
            "\u001b[0;32m/usr/local/lib/python3.7/dist-packages/jupyter_client/session.py\u001b[0m in \u001b[0;36mrecv\u001b[0;34m(self, socket, mode, content, copy)\u001b[0m\n\u001b[1;32m    802\u001b[0m         \u001b[0;32mtry\u001b[0m\u001b[0;34m:\u001b[0m\u001b[0;34m\u001b[0m\u001b[0;34m\u001b[0m\u001b[0m\n\u001b[0;32m--> 803\u001b[0;31m             \u001b[0mmsg_list\u001b[0m \u001b[0;34m=\u001b[0m \u001b[0msocket\u001b[0m\u001b[0;34m.\u001b[0m\u001b[0mrecv_multipart\u001b[0m\u001b[0;34m(\u001b[0m\u001b[0mmode\u001b[0m\u001b[0;34m,\u001b[0m \u001b[0mcopy\u001b[0m\u001b[0;34m=\u001b[0m\u001b[0mcopy\u001b[0m\u001b[0;34m)\u001b[0m\u001b[0;34m\u001b[0m\u001b[0;34m\u001b[0m\u001b[0m\n\u001b[0m\u001b[1;32m    804\u001b[0m         \u001b[0;32mexcept\u001b[0m \u001b[0mzmq\u001b[0m\u001b[0;34m.\u001b[0m\u001b[0mZMQError\u001b[0m \u001b[0;32mas\u001b[0m \u001b[0me\u001b[0m\u001b[0;34m:\u001b[0m\u001b[0;34m\u001b[0m\u001b[0;34m\u001b[0m\u001b[0m\n",
            "\u001b[0;32m/usr/local/lib/python3.7/dist-packages/zmq/sugar/socket.py\u001b[0m in \u001b[0;36mrecv_multipart\u001b[0;34m(self, flags, copy, track)\u001b[0m\n\u001b[1;32m    618\u001b[0m         \"\"\"\n\u001b[0;32m--> 619\u001b[0;31m         \u001b[0mparts\u001b[0m \u001b[0;34m=\u001b[0m \u001b[0;34m[\u001b[0m\u001b[0mself\u001b[0m\u001b[0;34m.\u001b[0m\u001b[0mrecv\u001b[0m\u001b[0;34m(\u001b[0m\u001b[0mflags\u001b[0m\u001b[0;34m,\u001b[0m \u001b[0mcopy\u001b[0m\u001b[0;34m=\u001b[0m\u001b[0mcopy\u001b[0m\u001b[0;34m,\u001b[0m \u001b[0mtrack\u001b[0m\u001b[0;34m=\u001b[0m\u001b[0mtrack\u001b[0m\u001b[0;34m)\u001b[0m\u001b[0;34m]\u001b[0m\u001b[0;34m\u001b[0m\u001b[0;34m\u001b[0m\u001b[0m\n\u001b[0m\u001b[1;32m    620\u001b[0m         \u001b[0;31m# have first part already, only loop while more to receive\u001b[0m\u001b[0;34m\u001b[0m\u001b[0;34m\u001b[0m\u001b[0;34m\u001b[0m\u001b[0m\n",
            "\u001b[0;32mzmq/backend/cython/socket.pyx\u001b[0m in \u001b[0;36mzmq.backend.cython.socket.Socket.recv\u001b[0;34m()\u001b[0m\n",
            "\u001b[0;32mzmq/backend/cython/socket.pyx\u001b[0m in \u001b[0;36mzmq.backend.cython.socket.Socket.recv\u001b[0;34m()\u001b[0m\n",
            "\u001b[0;32mzmq/backend/cython/socket.pyx\u001b[0m in \u001b[0;36mzmq.backend.cython.socket._recv_copy\u001b[0;34m()\u001b[0m\n",
            "\u001b[0;32m/usr/local/lib/python3.7/dist-packages/zmq/backend/cython/checkrc.pxd\u001b[0m in \u001b[0;36mzmq.backend.cython.checkrc._check_rc\u001b[0;34m()\u001b[0m\n",
            "\u001b[0;31mKeyboardInterrupt\u001b[0m: ",
            "\nDuring handling of the above exception, another exception occurred:\n",
            "\u001b[0;31mKeyboardInterrupt\u001b[0m                         Traceback (most recent call last)",
            "\u001b[0;32m<ipython-input-1-86d877e1deaf>\u001b[0m in \u001b[0;36m<module>\u001b[0;34m()\u001b[0m\n\u001b[1;32m      1\u001b[0m \u001b[0mdata1\u001b[0m \u001b[0;34m=\u001b[0m \u001b[0mopen\u001b[0m\u001b[0;34m(\u001b[0m\u001b[0;34m\"order.txt\"\u001b[0m\u001b[0;34m,\u001b[0m\u001b[0;34m\"w\"\u001b[0m\u001b[0;34m)\u001b[0m\u001b[0;34m\u001b[0m\u001b[0;34m\u001b[0m\u001b[0m\n\u001b[0;32m----> 2\u001b[0;31m \u001b[0mvalue\u001b[0m \u001b[0;34m=\u001b[0m \u001b[0mint\u001b[0m\u001b[0;34m(\u001b[0m\u001b[0minput\u001b[0m\u001b[0;34m(\u001b[0m\u001b[0;34m\"enter the number of quantity you want to buy\"\u001b[0m\u001b[0;34m)\u001b[0m\u001b[0;34m)\u001b[0m\u001b[0;34m\u001b[0m\u001b[0;34m\u001b[0m\u001b[0m\n\u001b[0m\u001b[1;32m      3\u001b[0m \u001b[0mdata\u001b[0m \u001b[0;34m=\u001b[0m \u001b[0mopen\u001b[0m\u001b[0;34m(\u001b[0m\u001b[0;34m\"listforinventory.json\"\u001b[0m\u001b[0;34m,\u001b[0m\u001b[0;34m\"r\"\u001b[0m\u001b[0;34m)\u001b[0m\u001b[0;34m\u001b[0m\u001b[0;34m\u001b[0m\u001b[0m\n\u001b[1;32m      4\u001b[0m \u001b[0mread\u001b[0m \u001b[0;34m=\u001b[0m \u001b[0mdata\u001b[0m\u001b[0;34m.\u001b[0m\u001b[0mread\u001b[0m\u001b[0;34m(\u001b[0m\u001b[0;34m)\u001b[0m\u001b[0;34m\u001b[0m\u001b[0;34m\u001b[0m\u001b[0m\n\u001b[1;32m      5\u001b[0m \u001b[0mreceipt\u001b[0m \u001b[0;34m=\u001b[0m \u001b[0mjson\u001b[0m\u001b[0;34m.\u001b[0m\u001b[0mloads\u001b[0m\u001b[0;34m(\u001b[0m\u001b[0mread\u001b[0m\u001b[0;34m)\u001b[0m\u001b[0;34m\u001b[0m\u001b[0;34m\u001b[0m\u001b[0m\n",
            "\u001b[0;32m/usr/local/lib/python3.7/dist-packages/ipykernel/kernelbase.py\u001b[0m in \u001b[0;36mraw_input\u001b[0;34m(self, prompt)\u001b[0m\n\u001b[1;32m    702\u001b[0m             \u001b[0mself\u001b[0m\u001b[0;34m.\u001b[0m\u001b[0m_parent_ident\u001b[0m\u001b[0;34m,\u001b[0m\u001b[0;34m\u001b[0m\u001b[0;34m\u001b[0m\u001b[0m\n\u001b[1;32m    703\u001b[0m             \u001b[0mself\u001b[0m\u001b[0;34m.\u001b[0m\u001b[0m_parent_header\u001b[0m\u001b[0;34m,\u001b[0m\u001b[0;34m\u001b[0m\u001b[0;34m\u001b[0m\u001b[0m\n\u001b[0;32m--> 704\u001b[0;31m             \u001b[0mpassword\u001b[0m\u001b[0;34m=\u001b[0m\u001b[0;32mFalse\u001b[0m\u001b[0;34m,\u001b[0m\u001b[0;34m\u001b[0m\u001b[0;34m\u001b[0m\u001b[0m\n\u001b[0m\u001b[1;32m    705\u001b[0m         )\n\u001b[1;32m    706\u001b[0m \u001b[0;34m\u001b[0m\u001b[0m\n",
            "\u001b[0;32m/usr/local/lib/python3.7/dist-packages/ipykernel/kernelbase.py\u001b[0m in \u001b[0;36m_input_request\u001b[0;34m(self, prompt, ident, parent, password)\u001b[0m\n\u001b[1;32m    732\u001b[0m             \u001b[0;32mexcept\u001b[0m \u001b[0mKeyboardInterrupt\u001b[0m\u001b[0;34m:\u001b[0m\u001b[0;34m\u001b[0m\u001b[0;34m\u001b[0m\u001b[0m\n\u001b[1;32m    733\u001b[0m                 \u001b[0;31m# re-raise KeyboardInterrupt, to truncate traceback\u001b[0m\u001b[0;34m\u001b[0m\u001b[0;34m\u001b[0m\u001b[0;34m\u001b[0m\u001b[0m\n\u001b[0;32m--> 734\u001b[0;31m                 \u001b[0;32mraise\u001b[0m \u001b[0mKeyboardInterrupt\u001b[0m\u001b[0;34m\u001b[0m\u001b[0;34m\u001b[0m\u001b[0m\n\u001b[0m\u001b[1;32m    735\u001b[0m             \u001b[0;32melse\u001b[0m\u001b[0;34m:\u001b[0m\u001b[0;34m\u001b[0m\u001b[0;34m\u001b[0m\u001b[0m\n\u001b[1;32m    736\u001b[0m                 \u001b[0;32mbreak\u001b[0m\u001b[0;34m\u001b[0m\u001b[0;34m\u001b[0m\u001b[0m\n",
            "\u001b[0;31mKeyboardInterrupt\u001b[0m: "
          ]
        }
      ]
    },
    {
      "cell_type": "code",
      "metadata": {
        "id": "836f744b"
      },
      "source": [
        ""
      ],
      "id": "836f744b",
      "execution_count": null,
      "outputs": []
    },
    {
      "cell_type": "code",
      "metadata": {
        "id": "8517e90a"
      },
      "source": [
        ""
      ],
      "id": "8517e90a",
      "execution_count": null,
      "outputs": []
    }
  ]
}